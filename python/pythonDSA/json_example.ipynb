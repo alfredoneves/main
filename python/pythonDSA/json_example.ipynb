{
 "cells": [
  {
   "cell_type": "code",
   "execution_count": 11,
   "id": "c4bd75bf",
   "metadata": {},
   "outputs": [
    {
     "name": "stdout",
     "output_type": "stream",
     "text": [
      "{'name': 'alfredo', 'age': 21}\n"
     ]
    }
   ],
   "source": [
    "import json\n",
    "\n",
    "python_dict = {'name':'alfredo', 'age':21}\n",
    "print(python_dict)"
   ]
  },
  {
   "cell_type": "code",
   "execution_count": 12,
   "id": "278d5df5",
   "metadata": {},
   "outputs": [
    {
     "name": "stdout",
     "output_type": "stream",
     "text": [
      "name alfredo\n",
      "age 21\n"
     ]
    }
   ],
   "source": [
    "for k,v in python_dict.items():\n",
    "    print(k,v)"
   ]
  },
  {
   "cell_type": "code",
   "execution_count": 14,
   "id": "46a96006",
   "metadata": {
    "scrolled": true
   },
   "outputs": [
    {
     "name": "stdout",
     "output_type": "stream",
     "text": [
      "{\"name\": \"alfredo\", \"age\": 21}\n"
     ]
    }
   ],
   "source": [
    "json_info = json.dumps(python_dict)\n",
    "print(json_info)\n",
    "with open('json_test.json', 'w') as my_file:\n",
    "    my_file.write(json_info)"
   ]
  },
  {
   "cell_type": "code",
   "execution_count": null,
   "id": "36af7449",
   "metadata": {},
   "outputs": [],
   "source": []
  }
 ],
 "metadata": {
  "kernelspec": {
   "display_name": "Python 3 (ipykernel)",
   "language": "python",
   "name": "python3"
  },
  "language_info": {
   "codemirror_mode": {
    "name": "ipython",
    "version": 3
   },
   "file_extension": ".py",
   "mimetype": "text/x-python",
   "name": "python",
   "nbconvert_exporter": "python",
   "pygments_lexer": "ipython3",
   "version": "3.11.2"
  }
 },
 "nbformat": 4,
 "nbformat_minor": 5
}
