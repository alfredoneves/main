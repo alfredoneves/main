{
 "cells": [
  {
   "cell_type": "code",
   "execution_count": null,
   "id": "661ec6b1",
   "metadata": {},
   "outputs": [],
   "source": [
    "# bubble sort\n",
    "# run the list and if an element in position n is greater than n+1 the element n is placed in the end of the list"
   ]
  },
  {
   "cell_type": "code",
   "execution_count": 65,
   "id": "18be59c6",
   "metadata": {},
   "outputs": [
    {
     "name": "stdout",
     "output_type": "stream",
     "text": [
      "[0, 1, 2, 3, 5, 6, 7, 8, 9]\n"
     ]
    }
   ],
   "source": [
    "my_list = [3,5,2,0,7,6,1,9,8]\n",
    "test = [5,4,3,1,2]\n",
    "\n",
    "def bubble_sort(list0):\n",
    "    for i in range(len(list0)):\n",
    "        for j in range(len(list0) - i - 1):\n",
    "            if list0[j] > list0[j+1]:\n",
    "                list0[j],list0[j+1] = list0[j+1], list0[j]\n",
    "    return list0\n",
    "            \n",
    "print(bubble_sort(my_list))\n"
   ]
  },
  {
   "cell_type": "code",
   "execution_count": null,
   "id": "b66176db",
   "metadata": {},
   "outputs": [],
   "source": []
  }
 ],
 "metadata": {
  "kernelspec": {
   "display_name": "Python 3 (ipykernel)",
   "language": "python",
   "name": "python3"
  },
  "language_info": {
   "codemirror_mode": {
    "name": "ipython",
    "version": 3
   },
   "file_extension": ".py",
   "mimetype": "text/x-python",
   "name": "python",
   "nbconvert_exporter": "python",
   "pygments_lexer": "ipython3",
   "version": "3.11.2"
  }
 },
 "nbformat": 4,
 "nbformat_minor": 5
}
